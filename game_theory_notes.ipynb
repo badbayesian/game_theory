{
 "cells": [
  {
   "cell_type": "markdown",
   "metadata": {},
   "source": [
    "# Game theory solver notes"
   ]
  },
  {
   "cell_type": "code",
   "execution_count": 1,
   "metadata": {
    "ExecuteTime": {
     "end_time": "2017-12-09T20:38:57.289953Z",
     "start_time": "2017-12-09T20:38:56.928956Z"
    },
    "collapsed": true
   },
   "outputs": [],
   "source": [
    "from game_theory import model"
   ]
  },
  {
   "cell_type": "markdown",
   "metadata": {},
   "source": [
    "## Example with prisoner's dilemma"
   ]
  },
  {
   "cell_type": "code",
   "execution_count": 2,
   "metadata": {
    "ExecuteTime": {
     "end_time": "2017-12-09T20:38:57.297956Z",
     "start_time": "2017-12-09T20:38:57.290956Z"
    },
    "collapsed": true
   },
   "outputs": [],
   "source": [
    "X = [[-1, -3], [0, -2]]\n",
    "Y = [[-1, -3], [-3, -2]]"
   ]
  },
  {
   "cell_type": "code",
   "execution_count": 3,
   "metadata": {
    "ExecuteTime": {
     "end_time": "2017-12-09T20:38:57.323956Z",
     "start_time": "2017-12-09T20:38:57.300957Z"
    },
    "collapsed": true
   },
   "outputs": [],
   "source": [
    "prison = model.game(name=\"Prisoner's Dilemma\", payoffs=[X, Y])"
   ]
  },
  {
   "cell_type": "code",
   "execution_count": 4,
   "metadata": {
    "ExecuteTime": {
     "end_time": "2017-12-09T20:38:57.364955Z",
     "start_time": "2017-12-09T20:38:57.325956Z"
    },
    "scrolled": false
   },
   "outputs": [
    {
     "data": {
      "text/plain": [
       "Prisoner's Dilemma\n",
       "\n",
       "          A         B\n",
       "A  [-1, -1]  [-3, -3]\n",
       "B   [0, -3]  [-2, -2]\n",
       "\n",
       "Nash Equilibrum(s) at: [[1, 1]]"
      ]
     },
     "execution_count": 4,
     "metadata": {},
     "output_type": "execute_result"
    }
   ],
   "source": [
    "prison"
   ]
  },
  {
   "cell_type": "markdown",
   "metadata": {},
   "source": [
    "## Example with stag hunt with irrelevant alternative"
   ]
  },
  {
   "cell_type": "code",
   "execution_count": 5,
   "metadata": {
    "ExecuteTime": {
     "end_time": "2017-12-09T20:38:57.407956Z",
     "start_time": "2017-12-09T20:38:57.365955Z"
    },
    "collapsed": true
   },
   "outputs": [],
   "source": [
    "X = [[2, 0], [1, 1], [0, 0]]\n",
    "Y = [[2, 1], [0, 1], [0,0 ]]"
   ]
  },
  {
   "cell_type": "code",
   "execution_count": 6,
   "metadata": {
    "ExecuteTime": {
     "end_time": "2017-12-09T20:38:57.430957Z",
     "start_time": "2017-12-09T20:38:57.408955Z"
    },
    "collapsed": true
   },
   "outputs": [],
   "source": [
    "stag_hunt = model.game(name=\"Stag Hunt\", payoffs=[X, Y])"
   ]
  },
  {
   "cell_type": "code",
   "execution_count": 7,
   "metadata": {
    "ExecuteTime": {
     "end_time": "2017-12-09T20:38:57.449956Z",
     "start_time": "2017-12-09T20:38:57.431955Z"
    },
    "scrolled": true
   },
   "outputs": [
    {
     "data": {
      "text/plain": [
       "Stag Hunt\n",
       "\n",
       "        A       B\n",
       "A  [2, 2]  [0, 1]\n",
       "B  [1, 0]  [1, 1]\n",
       "C  [0, 0]  [0, 0]\n",
       "\n",
       "Nash Equilibrum(s) at: [[0, 0], [1, 1]]"
      ]
     },
     "execution_count": 7,
     "metadata": {},
     "output_type": "execute_result"
    }
   ],
   "source": [
    "stag_hunt"
   ]
  },
  {
   "cell_type": "markdown",
   "metadata": {},
   "source": [
    "## Example of iterative, non-memory game"
   ]
  },
  {
   "cell_type": "code",
   "execution_count": 8,
   "metadata": {
    "ExecuteTime": {
     "end_time": "2017-12-09T20:38:57.665953Z",
     "start_time": "2017-12-09T20:38:57.451957Z"
    },
    "collapsed": true
   },
   "outputs": [],
   "source": [
    "X = [[-1, -3], [0, -2]]\n",
    "Y = [[-1, -3], [-3, -2]]\n",
    "Z = [[2, 0], [1, 1]]\n",
    "games = {\"X X\": [X, X], \"X Y\": [X, Y], \"X Z\": [X, Z],\n",
    "         \"Y Y\": [Y, Y], \"Y Z\": [Y, Z], \"Z Z\": [Z, Z]}\n",
    "number_of_games = 100\n",
    "player_pop = {\"X\": 10, \"Y\": 5, \"Z\": 5}\n",
    "env = model.evolution(games=games, number_of_games=number_of_games,\n",
    "                      player_pop=player_pop)"
   ]
  },
  {
   "cell_type": "code",
   "execution_count": 9,
   "metadata": {
    "ExecuteTime": {
     "end_time": "2017-12-09T20:38:57.704956Z",
     "start_time": "2017-12-09T20:38:57.666954Z"
    }
   },
   "outputs": [
    {
     "data": {
      "text/plain": [
       "[\n",
       "\n",
       "X X\n",
       "\n",
       "          A         B\n",
       "A  [-1, -1]  [-3, -3]\n",
       "B    [0, 0]  [-2, -2]\n",
       "\n",
       "Nash Equilibrum(s) at: [[1, 0]], \n",
       "\n",
       "X Y\n",
       "\n",
       "          A         B\n",
       "A  [-1, -1]  [-3, -3]\n",
       "B   [0, -3]  [-2, -2]\n",
       "\n",
       "Nash Equilibrum(s) at: [[1, 1]], \n",
       "\n",
       "X Z\n",
       "\n",
       "         A        B\n",
       "A  [-1, 2]  [-3, 0]\n",
       "B   [0, 1]  [-2, 1]\n",
       "\n",
       "Nash Equilibrum(s) at: [[1, 0], [1, 1]], \n",
       "\n",
       "Y Y\n",
       "\n",
       "          A         B\n",
       "A  [-1, -1]  [-3, -3]\n",
       "B  [-3, -3]  [-2, -2]\n",
       "\n",
       "Nash Equilibrum(s) at: [[0, 0], [1, 1]], \n",
       "\n",
       "Y Z\n",
       "\n",
       "         A        B\n",
       "A  [-1, 2]  [-3, 0]\n",
       "B  [-3, 1]  [-2, 1]\n",
       "\n",
       "Nash Equilibrum(s) at: [[0, 0], [1, 1]], \n",
       "\n",
       "Z Z\n",
       "\n",
       "        A       B\n",
       "A  [2, 2]  [0, 0]\n",
       "B  [1, 1]  [1, 1]\n",
       "\n",
       "Nash Equilibrum(s) at: [[0, 0], [1, 1]]]"
      ]
     },
     "execution_count": 9,
     "metadata": {},
     "output_type": "execute_result"
    }
   ],
   "source": [
    "env"
   ]
  },
  {
   "cell_type": "code",
   "execution_count": 10,
   "metadata": {
    "ExecuteTime": {
     "end_time": "2017-12-09T20:38:57.719956Z",
     "start_time": "2017-12-09T20:38:57.705958Z"
    }
   },
   "outputs": [
    {
     "data": {
      "text/plain": [
       "[{'X': [0, 0, 0, 0, 0, 0, 0, 0, 0, 0],\n",
       "  'Y': [0, 0, 0, 0, 0],\n",
       "  'Z': [0, 0, 0, 0, 0]},\n",
       " {'X': [-2, -2, -2, 0, 0, 0, 0, 0, 0, 0],\n",
       "  'Y': [-2, -2, -2, 2, 2],\n",
       "  'Z': [2, -1, 1, -1, 2]},\n",
       " {'X': [-2, -4, -2, -2, -2, 1, 1, 0, 0, 0],\n",
       "  'Y': [-3, -4, -4, 4, 0],\n",
       "  'Z': [3, 1, 0, -1, 2]},\n",
       " {'X': [-2, -6, -2, -1, -4, 1, 1, 0, 0, -2],\n",
       "  'Y': [-1, -6, -6, 3, -2],\n",
       "  'Z': [5, 3, 0, 1, 1]},\n",
       " {'X': [-2, -8, -2, -3, -3, 1, 1, 0, 1, -2],\n",
       "  'Y': [-3, -7, -4, 2, -4],\n",
       "  'Z': [7, 3, -1, 1, 3]}]"
      ]
     },
     "execution_count": 10,
     "metadata": {},
     "output_type": "execute_result"
    }
   ],
   "source": [
    "env.scores[0:5]"
   ]
  },
  {
   "cell_type": "markdown",
   "metadata": {
    "collapsed": true
   },
   "source": [
    "## Rock, Papers, Scissors"
   ]
  },
  {
   "cell_type": "code",
   "execution_count": 11,
   "metadata": {
    "ExecuteTime": {
     "end_time": "2017-12-09T20:38:57.739955Z",
     "start_time": "2017-12-09T20:38:57.721957Z"
    },
    "collapsed": true
   },
   "outputs": [],
   "source": [
    "X = [[0, -1, 1], [1, 0, -1], [-1, 1, 0]]\n",
    "Y = [[0, 1, -1], [-1, 0, 1], [1, -1, 0]]\n",
    "# rps = model.game(name=\"Rock, Papers, Scissors\", payoffs=[X, Y])"
   ]
  },
  {
   "cell_type": "code",
   "execution_count": null,
   "metadata": {
    "collapsed": true
   },
   "outputs": [],
   "source": []
  }
 ],
 "metadata": {
  "kernelspec": {
   "display_name": "Python 3",
   "language": "python",
   "name": "python3"
  },
  "language_info": {
   "codemirror_mode": {
    "name": "ipython",
    "version": 3
   },
   "file_extension": ".py",
   "mimetype": "text/x-python",
   "name": "python",
   "nbconvert_exporter": "python",
   "pygments_lexer": "ipython3",
   "version": "3.6.3"
  }
 },
 "nbformat": 4,
 "nbformat_minor": 2
}
