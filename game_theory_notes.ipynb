{
 "cells": [
  {
   "cell_type": "markdown",
   "metadata": {},
   "source": [
    "# Game theory solver notes"
   ]
  },
  {
   "cell_type": "code",
   "execution_count": 1,
   "metadata": {
    "ExecuteTime": {
     "end_time": "2017-12-09T04:12:17.724708Z",
     "start_time": "2017-12-09T04:12:17.326709Z"
    },
    "collapsed": true
   },
   "outputs": [],
   "source": [
    "from game_theory import model"
   ]
  },
  {
   "cell_type": "markdown",
   "metadata": {},
   "source": [
    "## Example with prisoner's dilemma"
   ]
  },
  {
   "cell_type": "code",
   "execution_count": 2,
   "metadata": {
    "ExecuteTime": {
     "end_time": "2017-12-09T04:12:17.735711Z",
     "start_time": "2017-12-09T04:12:17.725709Z"
    },
    "collapsed": true
   },
   "outputs": [],
   "source": [
    "X = [[-1, -3], [0, -2]]\n",
    "Y = [[-1, -3], [-3, -2]]"
   ]
  },
  {
   "cell_type": "code",
   "execution_count": 3,
   "metadata": {
    "ExecuteTime": {
     "end_time": "2017-12-09T04:12:17.797709Z",
     "start_time": "2017-12-09T04:12:17.749710Z"
    },
    "collapsed": true
   },
   "outputs": [],
   "source": [
    "prison = model.game(name=\"Prisoner's Dilemma\", payoffs=[X, Y])"
   ]
  },
  {
   "cell_type": "code",
   "execution_count": 4,
   "metadata": {
    "ExecuteTime": {
     "end_time": "2017-12-09T04:12:17.828711Z",
     "start_time": "2017-12-09T04:12:17.798709Z"
    },
    "scrolled": false
   },
   "outputs": [
    {
     "data": {
      "text/plain": [
       "Prisoner's Dilemma\n",
       "\n",
       "          A         B\n",
       "A  [-1, -1]  [-3, -3]\n",
       "B   [0, -3]  [-2, -2]\n",
       "\n",
       "Nash Equilibrum(s) at:[[1, 1]]"
      ]
     },
     "execution_count": 4,
     "metadata": {},
     "output_type": "execute_result"
    }
   ],
   "source": [
    "prison"
   ]
  },
  {
   "cell_type": "markdown",
   "metadata": {},
   "source": [
    "## Example with stag hunt with irrelevant alternative"
   ]
  },
  {
   "cell_type": "code",
   "execution_count": 5,
   "metadata": {
    "ExecuteTime": {
     "end_time": "2017-12-09T04:12:17.885709Z",
     "start_time": "2017-12-09T04:12:17.830710Z"
    },
    "collapsed": true
   },
   "outputs": [],
   "source": [
    "X = [[2, 0], [1, 1], [0, 0]]\n",
    "Y = [[2, 1], [0, 1], [0,0 ]]"
   ]
  },
  {
   "cell_type": "code",
   "execution_count": 6,
   "metadata": {
    "ExecuteTime": {
     "end_time": "2017-12-09T04:12:17.909711Z",
     "start_time": "2017-12-09T04:12:17.886710Z"
    },
    "collapsed": true
   },
   "outputs": [],
   "source": [
    "stag_hunt = model.game(name=\"Stag Hunt\", payoffs=[X, Y])"
   ]
  },
  {
   "cell_type": "code",
   "execution_count": 7,
   "metadata": {
    "ExecuteTime": {
     "end_time": "2017-12-09T04:12:17.937710Z",
     "start_time": "2017-12-09T04:12:17.913710Z"
    },
    "scrolled": true
   },
   "outputs": [
    {
     "data": {
      "text/plain": [
       "Stag Hunt\n",
       "\n",
       "        A       B\n",
       "A  [2, 2]  [0, 1]\n",
       "B  [1, 0]  [1, 1]\n",
       "C  [0, 0]  [0, 0]\n",
       "\n",
       "Nash Equilibrum(s) at:[[0, 0], [1, 1]]"
      ]
     },
     "execution_count": 7,
     "metadata": {},
     "output_type": "execute_result"
    }
   ],
   "source": [
    "stag_hunt"
   ]
  },
  {
   "cell_type": "markdown",
   "metadata": {},
   "source": [
    "## Example of iterative, non-memory game"
   ]
  },
  {
   "cell_type": "code",
   "execution_count": 8,
   "metadata": {
    "ExecuteTime": {
     "end_time": "2017-12-09T04:12:18.187008Z",
     "start_time": "2017-12-09T04:12:17.946711Z"
    },
    "collapsed": true
   },
   "outputs": [],
   "source": [
    "X = [[-1, -3], [0, -2]]\n",
    "Y = [[-1, -3], [-3, -2]]\n",
    "Z = [[2, 0], [1, 1]]\n",
    "games = {\"X X\": [X, X], \"X Y\": [X, Y], \"X Z\": [X, Z],\n",
    "         \"Y Y\": [Y, Y], \"Y Z\": [Y, Z], \"Z Z\": [Z, Z]}\n",
    "number_of_games = 100\n",
    "player_pop = {\"X\": 10, \"Y\": 5, \"Z\": 5}\n",
    "env = model.evolution(games=games, number_of_games=number_of_games,\n",
    "                      player_pop=player_pop)"
   ]
  },
  {
   "cell_type": "code",
   "execution_count": 9,
   "metadata": {
    "ExecuteTime": {
     "end_time": "2017-12-09T04:12:18.220008Z",
     "start_time": "2017-12-09T04:12:18.188008Z"
    }
   },
   "outputs": [
    {
     "data": {
      "text/plain": [
       "[\n",
       "\n",
       "X X\n",
       "\n",
       "          A         B\n",
       "A  [-1, -1]  [-3, -3]\n",
       "B    [0, 0]  [-2, -2]\n",
       "\n",
       "Nash Equilibrum(s) at:[[1, 0]], \n",
       "\n",
       "X Y\n",
       "\n",
       "          A         B\n",
       "A  [-1, -1]  [-3, -3]\n",
       "B   [0, -3]  [-2, -2]\n",
       "\n",
       "Nash Equilibrum(s) at:[[1, 1]], \n",
       "\n",
       "X Z\n",
       "\n",
       "         A        B\n",
       "A  [-1, 2]  [-3, 0]\n",
       "B   [0, 1]  [-2, 1]\n",
       "\n",
       "Nash Equilibrum(s) at:[[1, 0], [1, 1]], \n",
       "\n",
       "Y Y\n",
       "\n",
       "          A         B\n",
       "A  [-1, -1]  [-3, -3]\n",
       "B  [-3, -3]  [-2, -2]\n",
       "\n",
       "Nash Equilibrum(s) at:[[0, 0], [1, 1]], \n",
       "\n",
       "Y Z\n",
       "\n",
       "         A        B\n",
       "A  [-1, 2]  [-3, 0]\n",
       "B  [-3, 1]  [-2, 1]\n",
       "\n",
       "Nash Equilibrum(s) at:[[0, 0], [1, 1]], \n",
       "\n",
       "Z Z\n",
       "\n",
       "        A       B\n",
       "A  [2, 2]  [0, 0]\n",
       "B  [1, 1]  [1, 1]\n",
       "\n",
       "Nash Equilibrum(s) at:[[0, 0], [1, 1]]]"
      ]
     },
     "execution_count": 9,
     "metadata": {},
     "output_type": "execute_result"
    }
   ],
   "source": [
    "env"
   ]
  },
  {
   "cell_type": "code",
   "execution_count": 12,
   "metadata": {
    "ExecuteTime": {
     "end_time": "2017-12-09T04:30:17.636229Z",
     "start_time": "2017-12-09T04:30:17.630228Z"
    }
   },
   "outputs": [
    {
     "data": {
      "text/plain": [
       "[{'X': [0, 0, 0, 0, 0, 0, 0, 0, 0, 0],\n",
       "  'Y': [0, 0, 0, 0, 0],\n",
       "  'Z': [0, 0, 0, 0, 0]},\n",
       " {'X': [0, 0, 1, 0, 0, 0, 0, 0, 0, -2],\n",
       "  'Y': [-1, -1, -1, -2, 2],\n",
       "  'Z': [0, -1, 2, 2, 2]},\n",
       " {'X': [1, 0, -1, -2, 0, 0, 0, 0, 1, -2],\n",
       "  'Y': [-2, -3, -2, -3, 0],\n",
       "  'Z': [1, -1, 4, 2, 3]},\n",
       " {'X': [1, -2, -1, -2, 1, -2, -2, 1, 1, -2],\n",
       "  'Y': [-4, -5, -4, -4, -1],\n",
       "  'Z': [1, 0, 5, 2, 4]},\n",
       " {'X': [2, -4, -1, -4, 1, -4, -2, 1, 1, -4],\n",
       "  'Y': [-5, -7, -6, -6, -3],\n",
       "  'Z': [2, 1, 7, 3, 4]}]"
      ]
     },
     "execution_count": 12,
     "metadata": {},
     "output_type": "execute_result"
    }
   ],
   "source": [
    "env.scores[0:5]"
   ]
  },
  {
   "cell_type": "markdown",
   "metadata": {
    "collapsed": true
   },
   "source": [
    "## Rock, Papers, Scissors"
   ]
  },
  {
   "cell_type": "code",
   "execution_count": 11,
   "metadata": {
    "ExecuteTime": {
     "end_time": "2017-12-09T04:12:18.322008Z",
     "start_time": "2017-12-09T04:12:18.281010Z"
    },
    "collapsed": true
   },
   "outputs": [],
   "source": [
    "X = [[0, -1, 1], [1, 0, -1], [-1, 1, 0]]\n",
    "Y = [[0, 1, -1], [-1, 0, 1], [1, -1, 0]]\n",
    "# rps = model.game(name=\"Rock, Papers, Scissors\", payoffs=[X, Y])"
   ]
  },
  {
   "cell_type": "code",
   "execution_count": 13,
   "metadata": {
    "ExecuteTime": {
     "end_time": "2017-12-09T04:56:30.207874Z",
     "start_time": "2017-12-09T04:56:29.968374Z"
    },
    "collapsed": true
   },
   "outputs": [],
   "source": [
    "import copy\n",
    "import itertools\n",
    "import numpy as np\n",
    "import pandas as pd\n",
    "\n",
    "\n",
    "class game():\n",
    "    \"\"\"Collection of methods to solve games in game theory.\n",
    "\n",
    "    Currently able to solve and find nash equilibriums for any two player game\n",
    "    with finite choices and deterministic strategies given player preferences\n",
    "    and actions sets (player payoffs)\n",
    "\n",
    "    Parameter:\n",
    "    ----------\n",
    "    payoffs : list of list of each player's payoffs\n",
    "        payoff matrix inputed as a list of list of each players payoffs read\n",
    "        clockwise starting from the top-right sector (quadrant)\n",
    "    name : string\n",
    "        Name of game played\n",
    "    mixed : bool\n",
    "        If true, game is solved using mixed strategies\n",
    "        If false, game is solved with only deterministic strategies\n",
    "\n",
    "    Results:\n",
    "    --------\n",
    "    self.name : string\n",
    "        Name of the game played\n",
    "    self.players : int\n",
    "        Number of players in game (#TODO expand number of players)\n",
    "    self.dim : list of int\n",
    "        List of number of choices each player has in game\n",
    "    self.payoffs : matrix of tuples (#TODO expand number of players)\n",
    "        Stores payoffs as matrix of tuples as commonly stored in game theory\n",
    "    self.nash_location : list of tuples\n",
    "        Locations of all nash equilibriums in game\n",
    "    self.nash : tuple\n",
    "        Nash Equilibrium values #TODO multi nash and mixed nash\n",
    "    \"\"\"\n",
    "\n",
    "    def __init__(self, payoffs, name='game', mixed=False):\n",
    "        \"\"\"Initialize and run game.\"\"\"\n",
    "        self.name = name\n",
    "        self.players = 2\n",
    "        self.dim = [len(payoffs[0]), len(payoffs[0][1])]\n",
    "        self.payoffs = self.translate_payoffs(payoffs)\n",
    "        self.nash_location = self.find_nash(mixed)\n",
    "        self.nash = self.payoffs[self.nash_location[0][0],\n",
    "                                 self.nash_location[0][1]]\n",
    "\n",
    "    def __repr__(self):\n",
    "        \"\"\"Print game with pandas, only 26 max choices for now.\"\"\"\n",
    "        name = [[chr(i) for i in range(ord('A'), ord('Z') + 1)][0:self.dim[0]],\n",
    "                [chr(i) for i in range(ord('A'), ord('Z') + 1)][0:self.dim[1]]]\n",
    "        df = pd.DataFrame([self.payoffs[i] for i in range(0, self.dim[0])],\n",
    "                          index=name[0], columns=name[1])\n",
    "        return(self.name + '\\n\\n' + str(df) + '\\n\\n' +\n",
    "               'Nash Equilibrum(s) at: ' + str(self.nash_location))\n",
    "\n",
    "    def translate_payoffs(self, payoffs):\n",
    "        \"\"\"Manipulate payoffs arrays into matrix of tuples.\"\"\"\n",
    "        payoff_matrix = np.zeros((self.dim[0], self.dim[1]), dtype='int,int')\n",
    "\n",
    "        for i in range(0, self.dim[0]):\n",
    "            for j in range(0, self.dim[1]):\n",
    "                payoff_matrix[i][j][0] = payoffs[0][i][j]\n",
    "                payoff_matrix[i][j][1] = payoffs[1][i][j]\n",
    "\n",
    "        return(payoff_matrix)\n",
    "\n",
    "    def find_nash(self, mixed):\n",
    "        \"\"\"Solve for the nash equilibrium coordinates.\n",
    "\n",
    "        Currently information is saved as a matrix of tuples. Unclear if that\n",
    "        will remain if multiagents are added.\n",
    "        #TODO mixed strategies\n",
    "        #TODO multiagents\n",
    "        \"\"\"\n",
    "        if not mixed:\n",
    "            nash = np.zeros((self.dim[0], self.dim[1]), dtype='int,int')\n",
    "\n",
    "            player_1_choices = []\n",
    "            for i in range(0, self.dim[1]):\n",
    "                payoffs_per_column = [payoff[0] for payoff in\n",
    "                                      [column[i] for column in self.payoffs]]\n",
    "                player_1_choices.append(\n",
    "                    np.argwhere(\n",
    "                        payoffs_per_column == np.amax(payoffs_per_column)))\n",
    "\n",
    "            for i in range(0, self.dim[1]):\n",
    "                if len(player_1_choices[i].flatten()) == 1:\n",
    "                    nash[player_1_choices[i].flatten()[0]][i][0] = 1\n",
    "                else:\n",
    "                    for j in range(0, len(player_1_choices[i].flatten())):\n",
    "                        nash[player_1_choices[i].flatten()[j]][i][0] = 1\n",
    "\n",
    "            player_2_choices = []\n",
    "            for i in range(0, self.dim[0]):\n",
    "                payoffs_per_row = [row[1] for row in self.payoffs[i]]\n",
    "                player_2_choices.append(\n",
    "                    np.argwhere(payoffs_per_row == np.amax(payoffs_per_row)))\n",
    "\n",
    "            for i in range(0, self.dim[0]):\n",
    "                if len(player_2_choices[i].flatten()) == 1:\n",
    "                    nash[i][player_2_choices[i].flatten()[0]][1] = 1\n",
    "                else:\n",
    "                    for j in range(0, len(player_2_choices[i].flatten())):\n",
    "                        nash[i][player_2_choices[i].flatten()[j]][1] = 1\n",
    "\n",
    "        coords = []\n",
    "        for i in range(0, self.dim[0]):\n",
    "            for j in range(0, self.dim[1]):\n",
    "                if nash[i][j][0] == 1 and nash[i][j][1] == 1:\n",
    "                    coords.append([i, j])\n",
    "\n",
    "        return(coords)\n",
    "\n",
    "\n",
    "class evolution():\n",
    "    \"\"\"Simulated iterative, non-memory games.\n",
    "\n",
    "    This method follows an evolutionary game theory flavor where each there are\n",
    "    different types of agents, each playing different games depending which\n",
    "    other agent they find. In each round, all agents are paired up with another\n",
    "    agent (same or different type) randomly. They play their game and are given\n",
    "    points accordingly. One can see how the scores evolve over time.\n",
    "\n",
    "    #TODO Population dynamics within game e.g. after a certain score the pop\n",
    "    either grows or diminishes.\n",
    "\n",
    "    Parameters:\n",
    "    -----------\n",
    "    games : dict\n",
    "        Dictionary of games with payoffs\n",
    "        Example:\n",
    "        X = [[-5, 5], [10, 8]]\n",
    "        Y = [[2, 3], [1, 1]]\n",
    "        games = {\"X X\": [X, X], \"X Y\": [X, Y], \"Y Y\": [Y, Y]}\n",
    "    player_pop : dict\n",
    "        Dictionary of agents and number of agents\n",
    "    number_of_games : int\n",
    "        Number of games\n",
    "    init_scores : #TODO\n",
    "    name : string\n",
    "        Name of enviroment of games\n",
    "    mixed : bool\n",
    "        If true, games are solved using mixed strategies\n",
    "        If false, games are solved with only deterministic strategies\n",
    "\n",
    "    Results:\n",
    "    --------\n",
    "    self.name : str\n",
    "        Name of enviroment\n",
    "    self.player_pop : dict\n",
    "        Dictionary of agents and number of agents\n",
    "    self.games :\n",
    "    self.number_of_games : int\n",
    "    self.mixed : bool\n",
    "        If true, games are solved using mixed strategies\n",
    "        If false, games are solved with only deterministic strategies\n",
    "    self.scores : array of dict\n",
    "    \"\"\"\n",
    "\n",
    "    def __init__(self, games, player_pop, number_of_games, init_scores=0,\n",
    "                 name='env', mixed=False):\n",
    "        \"\"\"Initialize and run enviroment of games.\"\"\"\n",
    "        self.name = name\n",
    "        self.player_pop = player_pop\n",
    "        self.games = games\n",
    "        self.number_of_games = number_of_games\n",
    "        self.mixed = mixed\n",
    "        self.scores = self.score_games()\n",
    "        self.plot_ave = self.plot_ave()\n",
    "\n",
    "    def __repr__(self):\n",
    "        \"\"\"Print information of each different game.\"\"\"\n",
    "        return(str([game(name='\\n\\n' + key, payoffs=values)\n",
    "                    for (key, values) in self.games.items()]))\n",
    "\n",
    "    def score_games(self):\n",
    "        \"\"\"Run x games recording the score at after each game.\n",
    "\n",
    "        In this version, only two agents can meet each other to create a game.\n",
    "        As such, if there is an odd number of players, on player does not play\n",
    "        that round. The scores are saved as an array of dictonaries for easy\n",
    "        slicing.\n",
    "\n",
    "        Example:\n",
    "        [{'X': [0, 0, 0], 'Y': [0, 0, 0], 'Z': [0, 0, 0]},\n",
    "        {'X': [0, 0, 1], 'Y': [-1, -1, -1], 'Z': [0, -1, 2]}]\n",
    "        \"\"\"\n",
    "        scores = [copy.deepcopy({key: [0] * values for (key, values)\n",
    "                                 in self.player_pop.items()})\n",
    "                  for x in range(self.number_of_games)]\n",
    "\n",
    "        player_id = [item for sublist in [\n",
    "            [key + str(s) for s in list(range(0, values))] for\n",
    "            (key, values) in self.player_pop.items()] for item in sublist]\n",
    "\n",
    "        if len(player_id) % 2 != 0:\n",
    "            player_id = [None] + player_id\n",
    "\n",
    "        for i in range(1, self.number_of_games):\n",
    "\n",
    "            length = len(player_id)\n",
    "            index = np.random.choice(length, size=length, replace=False)\n",
    "\n",
    "            paired_list = list(zip([player_id[i] for i in index[::2]],\n",
    "                                   [player_id[i] for i in index[1::2]]))\n",
    "\n",
    "            for j in range(0, int(length / 2)):\n",
    "                if not all(paired_list[j]):\n",
    "                    continue\n",
    "                players = [[\"\".join(x) for _, x in\n",
    "                            itertools.groupby(paired_list[j][0],\n",
    "                                              key=str.isdigit)],\n",
    "                           [\"\".join(x) for _, x in\n",
    "                           itertools.groupby(paired_list[j][1],\n",
    "                                             key=str.isdigit)]]\n",
    "                try:\n",
    "                    g = game(payoffs=self.games[str(players[0][0] +\n",
    "                                                    \" \" + players[1][0])])\n",
    "                except KeyError:\n",
    "                    g = game(payoffs=self.games[str(players[1][0] +\n",
    "                                                    \" \" + players[0][0])])\n",
    "\n",
    "                scores[i][players[0][0]][int(players[0][1])] = (\n",
    "                    scores[i - 1][players[0][0]][int(players[0][1])] +\n",
    "                    g.nash[0])\n",
    "                scores[i][players[1][0]][int(players[1][1])] = (\n",
    "                    scores[i - 1][players[1][0]][int(players[1][1])] +\n",
    "                    g.nash[1])\n",
    "        return(scores)\n",
    "\n",
    "    def plot_ave(self):\n",
    "        return()"
   ]
  },
  {
   "cell_type": "code",
   "execution_count": 14,
   "metadata": {
    "ExecuteTime": {
     "end_time": "2017-12-09T04:56:41.764876Z",
     "start_time": "2017-12-09T04:56:41.548878Z"
    },
    "collapsed": true
   },
   "outputs": [],
   "source": [
    "X = [[-1, -3], [0, -2]]\n",
    "Y = [[-1, -3], [-3, -2]]\n",
    "Z = [[2, 0], [1, 1]]\n",
    "games = {\"X X\": [X, X], \"X Y\": [X, Y], \"X Z\": [X, Z],\n",
    "         \"Y Y\": [Y, Y], \"Y Z\": [Y, Z], \"Z Z\": [Z, Z]}\n",
    "number_of_games = 100\n",
    "player_pop = {\"X\": 10, \"Y\": 5, \"Z\": 5}\n",
    "env = model.evolution(games=games, number_of_games=number_of_games,\n",
    "                      player_pop=player_pop)"
   ]
  },
  {
   "cell_type": "code",
   "execution_count": 16,
   "metadata": {
    "ExecuteTime": {
     "end_time": "2017-12-09T04:56:52.379322Z",
     "start_time": "2017-12-09T04:56:52.237301Z"
    },
    "collapsed": true
   },
   "outputs": [],
   "source": [
    "import matplotlib.pyplot as plt"
   ]
  },
  {
   "cell_type": "code",
   "execution_count": 29,
   "metadata": {
    "ExecuteTime": {
     "end_time": "2017-12-09T05:00:57.090183Z",
     "start_time": "2017-12-09T05:00:57.086184Z"
    }
   },
   "outputs": [
    {
     "data": {
      "text/plain": [
       "{'X': [0, -2, -2, -2, 0, 0, 1, 0, 0, 0],\n",
       " 'Y': [-2, 2, -2, -2, -1],\n",
       " 'Z': [1, 1, -1, 2, 0]}"
      ]
     },
     "execution_count": 29,
     "metadata": {},
     "output_type": "execute_result"
    }
   ],
   "source": [
    "env.scores[0:3][1]"
   ]
  },
  {
   "cell_type": "code",
   "execution_count": 19,
   "metadata": {
    "ExecuteTime": {
     "end_time": "2017-12-09T04:59:05.179407Z",
     "start_time": "2017-12-09T04:59:05.150907Z"
    }
   },
   "outputs": [
    {
     "ename": "TypeError",
     "evalue": "float() argument must be a string or a number, not 'dict'",
     "output_type": "error",
     "traceback": [
      "\u001b[1;31m---------------------------------------------------------------------------\u001b[0m",
      "\u001b[1;31mTypeError\u001b[0m                                 Traceback (most recent call last)",
      "\u001b[1;32m<ipython-input-19-b9bedd02f4a3>\u001b[0m in \u001b[0;36m<module>\u001b[1;34m()\u001b[0m\n\u001b[1;32m----> 1\u001b[1;33m \u001b[0mplt\u001b[0m\u001b[1;33m.\u001b[0m\u001b[0mplot\u001b[0m\u001b[1;33m(\u001b[0m\u001b[1;33m[\u001b[0m\u001b[0menv\u001b[0m\u001b[1;33m.\u001b[0m\u001b[0mscores\u001b[0m\u001b[1;33m]\u001b[0m\u001b[1;33m)\u001b[0m\u001b[1;33m\u001b[0m\u001b[0m\n\u001b[0m\u001b[0;32m      2\u001b[0m \u001b[0mplt\u001b[0m\u001b[1;33m.\u001b[0m\u001b[0mshow\u001b[0m\u001b[1;33m(\u001b[0m\u001b[1;33m)\u001b[0m\u001b[1;33m\u001b[0m\u001b[0m\n",
      "\u001b[1;32mC:\\Users\\Daniel\\Anaconda3\\lib\\site-packages\\matplotlib\\pyplot.py\u001b[0m in \u001b[0;36mplot\u001b[1;34m(*args, **kwargs)\u001b[0m\n\u001b[0;32m   3315\u001b[0m                       mplDeprecation)\n\u001b[0;32m   3316\u001b[0m     \u001b[1;32mtry\u001b[0m\u001b[1;33m:\u001b[0m\u001b[1;33m\u001b[0m\u001b[0m\n\u001b[1;32m-> 3317\u001b[1;33m         \u001b[0mret\u001b[0m \u001b[1;33m=\u001b[0m \u001b[0max\u001b[0m\u001b[1;33m.\u001b[0m\u001b[0mplot\u001b[0m\u001b[1;33m(\u001b[0m\u001b[1;33m*\u001b[0m\u001b[0margs\u001b[0m\u001b[1;33m,\u001b[0m \u001b[1;33m**\u001b[0m\u001b[0mkwargs\u001b[0m\u001b[1;33m)\u001b[0m\u001b[1;33m\u001b[0m\u001b[0m\n\u001b[0m\u001b[0;32m   3318\u001b[0m     \u001b[1;32mfinally\u001b[0m\u001b[1;33m:\u001b[0m\u001b[1;33m\u001b[0m\u001b[0m\n\u001b[0;32m   3319\u001b[0m         \u001b[0max\u001b[0m\u001b[1;33m.\u001b[0m\u001b[0m_hold\u001b[0m \u001b[1;33m=\u001b[0m \u001b[0mwashold\u001b[0m\u001b[1;33m\u001b[0m\u001b[0m\n",
      "\u001b[1;32mC:\\Users\\Daniel\\Anaconda3\\lib\\site-packages\\matplotlib\\__init__.py\u001b[0m in \u001b[0;36minner\u001b[1;34m(ax, *args, **kwargs)\u001b[0m\n\u001b[0;32m   1895\u001b[0m                     warnings.warn(msg % (label_namer, func.__name__),\n\u001b[0;32m   1896\u001b[0m                                   RuntimeWarning, stacklevel=2)\n\u001b[1;32m-> 1897\u001b[1;33m             \u001b[1;32mreturn\u001b[0m \u001b[0mfunc\u001b[0m\u001b[1;33m(\u001b[0m\u001b[0max\u001b[0m\u001b[1;33m,\u001b[0m \u001b[1;33m*\u001b[0m\u001b[0margs\u001b[0m\u001b[1;33m,\u001b[0m \u001b[1;33m**\u001b[0m\u001b[0mkwargs\u001b[0m\u001b[1;33m)\u001b[0m\u001b[1;33m\u001b[0m\u001b[0m\n\u001b[0m\u001b[0;32m   1898\u001b[0m         \u001b[0mpre_doc\u001b[0m \u001b[1;33m=\u001b[0m \u001b[0minner\u001b[0m\u001b[1;33m.\u001b[0m\u001b[0m__doc__\u001b[0m\u001b[1;33m\u001b[0m\u001b[0m\n\u001b[0;32m   1899\u001b[0m         \u001b[1;32mif\u001b[0m \u001b[0mpre_doc\u001b[0m \u001b[1;32mis\u001b[0m \u001b[1;32mNone\u001b[0m\u001b[1;33m:\u001b[0m\u001b[1;33m\u001b[0m\u001b[0m\n",
      "\u001b[1;32mC:\\Users\\Daniel\\Anaconda3\\lib\\site-packages\\matplotlib\\axes\\_axes.py\u001b[0m in \u001b[0;36mplot\u001b[1;34m(self, *args, **kwargs)\u001b[0m\n\u001b[0;32m   1405\u001b[0m \u001b[1;33m\u001b[0m\u001b[0m\n\u001b[0;32m   1406\u001b[0m         \u001b[1;32mfor\u001b[0m \u001b[0mline\u001b[0m \u001b[1;32min\u001b[0m \u001b[0mself\u001b[0m\u001b[1;33m.\u001b[0m\u001b[0m_get_lines\u001b[0m\u001b[1;33m(\u001b[0m\u001b[1;33m*\u001b[0m\u001b[0margs\u001b[0m\u001b[1;33m,\u001b[0m \u001b[1;33m**\u001b[0m\u001b[0mkwargs\u001b[0m\u001b[1;33m)\u001b[0m\u001b[1;33m:\u001b[0m\u001b[1;33m\u001b[0m\u001b[0m\n\u001b[1;32m-> 1407\u001b[1;33m             \u001b[0mself\u001b[0m\u001b[1;33m.\u001b[0m\u001b[0madd_line\u001b[0m\u001b[1;33m(\u001b[0m\u001b[0mline\u001b[0m\u001b[1;33m)\u001b[0m\u001b[1;33m\u001b[0m\u001b[0m\n\u001b[0m\u001b[0;32m   1408\u001b[0m             \u001b[0mlines\u001b[0m\u001b[1;33m.\u001b[0m\u001b[0mappend\u001b[0m\u001b[1;33m(\u001b[0m\u001b[0mline\u001b[0m\u001b[1;33m)\u001b[0m\u001b[1;33m\u001b[0m\u001b[0m\n\u001b[0;32m   1409\u001b[0m \u001b[1;33m\u001b[0m\u001b[0m\n",
      "\u001b[1;32mC:\\Users\\Daniel\\Anaconda3\\lib\\site-packages\\matplotlib\\axes\\_base.py\u001b[0m in \u001b[0;36madd_line\u001b[1;34m(self, line)\u001b[0m\n\u001b[0;32m   1791\u001b[0m             \u001b[0mline\u001b[0m\u001b[1;33m.\u001b[0m\u001b[0mset_clip_path\u001b[0m\u001b[1;33m(\u001b[0m\u001b[0mself\u001b[0m\u001b[1;33m.\u001b[0m\u001b[0mpatch\u001b[0m\u001b[1;33m)\u001b[0m\u001b[1;33m\u001b[0m\u001b[0m\n\u001b[0;32m   1792\u001b[0m \u001b[1;33m\u001b[0m\u001b[0m\n\u001b[1;32m-> 1793\u001b[1;33m         \u001b[0mself\u001b[0m\u001b[1;33m.\u001b[0m\u001b[0m_update_line_limits\u001b[0m\u001b[1;33m(\u001b[0m\u001b[0mline\u001b[0m\u001b[1;33m)\u001b[0m\u001b[1;33m\u001b[0m\u001b[0m\n\u001b[0m\u001b[0;32m   1794\u001b[0m         \u001b[1;32mif\u001b[0m \u001b[1;32mnot\u001b[0m \u001b[0mline\u001b[0m\u001b[1;33m.\u001b[0m\u001b[0mget_label\u001b[0m\u001b[1;33m(\u001b[0m\u001b[1;33m)\u001b[0m\u001b[1;33m:\u001b[0m\u001b[1;33m\u001b[0m\u001b[0m\n\u001b[0;32m   1795\u001b[0m             \u001b[0mline\u001b[0m\u001b[1;33m.\u001b[0m\u001b[0mset_label\u001b[0m\u001b[1;33m(\u001b[0m\u001b[1;34m'_line%d'\u001b[0m \u001b[1;33m%\u001b[0m \u001b[0mlen\u001b[0m\u001b[1;33m(\u001b[0m\u001b[0mself\u001b[0m\u001b[1;33m.\u001b[0m\u001b[0mlines\u001b[0m\u001b[1;33m)\u001b[0m\u001b[1;33m)\u001b[0m\u001b[1;33m\u001b[0m\u001b[0m\n",
      "\u001b[1;32mC:\\Users\\Daniel\\Anaconda3\\lib\\site-packages\\matplotlib\\axes\\_base.py\u001b[0m in \u001b[0;36m_update_line_limits\u001b[1;34m(self, line)\u001b[0m\n\u001b[0;32m   1813\u001b[0m         \u001b[0mFigures\u001b[0m \u001b[0mout\u001b[0m \u001b[0mthe\u001b[0m \u001b[0mdata\u001b[0m \u001b[0mlimit\u001b[0m \u001b[0mof\u001b[0m \u001b[0mthe\u001b[0m \u001b[0mgiven\u001b[0m \u001b[0mline\u001b[0m\u001b[1;33m,\u001b[0m \u001b[0mupdating\u001b[0m \u001b[0mself\u001b[0m\u001b[1;33m.\u001b[0m\u001b[0mdataLim\u001b[0m\u001b[1;33m.\u001b[0m\u001b[1;33m\u001b[0m\u001b[0m\n\u001b[0;32m   1814\u001b[0m         \"\"\"\n\u001b[1;32m-> 1815\u001b[1;33m         \u001b[0mpath\u001b[0m \u001b[1;33m=\u001b[0m \u001b[0mline\u001b[0m\u001b[1;33m.\u001b[0m\u001b[0mget_path\u001b[0m\u001b[1;33m(\u001b[0m\u001b[1;33m)\u001b[0m\u001b[1;33m\u001b[0m\u001b[0m\n\u001b[0m\u001b[0;32m   1816\u001b[0m         \u001b[1;32mif\u001b[0m \u001b[0mpath\u001b[0m\u001b[1;33m.\u001b[0m\u001b[0mvertices\u001b[0m\u001b[1;33m.\u001b[0m\u001b[0msize\u001b[0m \u001b[1;33m==\u001b[0m \u001b[1;36m0\u001b[0m\u001b[1;33m:\u001b[0m\u001b[1;33m\u001b[0m\u001b[0m\n\u001b[0;32m   1817\u001b[0m             \u001b[1;32mreturn\u001b[0m\u001b[1;33m\u001b[0m\u001b[0m\n",
      "\u001b[1;32mC:\\Users\\Daniel\\Anaconda3\\lib\\site-packages\\matplotlib\\lines.py\u001b[0m in \u001b[0;36mget_path\u001b[1;34m(self)\u001b[0m\n\u001b[0;32m    987\u001b[0m         \"\"\"\n\u001b[0;32m    988\u001b[0m         \u001b[1;32mif\u001b[0m \u001b[0mself\u001b[0m\u001b[1;33m.\u001b[0m\u001b[0m_invalidy\u001b[0m \u001b[1;32mor\u001b[0m \u001b[0mself\u001b[0m\u001b[1;33m.\u001b[0m\u001b[0m_invalidx\u001b[0m\u001b[1;33m:\u001b[0m\u001b[1;33m\u001b[0m\u001b[0m\n\u001b[1;32m--> 989\u001b[1;33m             \u001b[0mself\u001b[0m\u001b[1;33m.\u001b[0m\u001b[0mrecache\u001b[0m\u001b[1;33m(\u001b[0m\u001b[1;33m)\u001b[0m\u001b[1;33m\u001b[0m\u001b[0m\n\u001b[0m\u001b[0;32m    990\u001b[0m         \u001b[1;32mreturn\u001b[0m \u001b[0mself\u001b[0m\u001b[1;33m.\u001b[0m\u001b[0m_path\u001b[0m\u001b[1;33m\u001b[0m\u001b[0m\n\u001b[0;32m    991\u001b[0m \u001b[1;33m\u001b[0m\u001b[0m\n",
      "\u001b[1;32mC:\\Users\\Daniel\\Anaconda3\\lib\\site-packages\\matplotlib\\lines.py\u001b[0m in \u001b[0;36mrecache\u001b[1;34m(self, always)\u001b[0m\n\u001b[0;32m    683\u001b[0m                 \u001b[0my\u001b[0m \u001b[1;33m=\u001b[0m \u001b[0mma\u001b[0m\u001b[1;33m.\u001b[0m\u001b[0masarray\u001b[0m\u001b[1;33m(\u001b[0m\u001b[0myconv\u001b[0m\u001b[1;33m,\u001b[0m \u001b[0mnp\u001b[0m\u001b[1;33m.\u001b[0m\u001b[0mfloat_\u001b[0m\u001b[1;33m)\u001b[0m\u001b[1;33m.\u001b[0m\u001b[0mfilled\u001b[0m\u001b[1;33m(\u001b[0m\u001b[0mnp\u001b[0m\u001b[1;33m.\u001b[0m\u001b[0mnan\u001b[0m\u001b[1;33m)\u001b[0m\u001b[1;33m\u001b[0m\u001b[0m\n\u001b[0;32m    684\u001b[0m             \u001b[1;32melse\u001b[0m\u001b[1;33m:\u001b[0m\u001b[1;33m\u001b[0m\u001b[0m\n\u001b[1;32m--> 685\u001b[1;33m                 \u001b[0my\u001b[0m \u001b[1;33m=\u001b[0m \u001b[0mnp\u001b[0m\u001b[1;33m.\u001b[0m\u001b[0masarray\u001b[0m\u001b[1;33m(\u001b[0m\u001b[0myconv\u001b[0m\u001b[1;33m,\u001b[0m \u001b[0mnp\u001b[0m\u001b[1;33m.\u001b[0m\u001b[0mfloat_\u001b[0m\u001b[1;33m)\u001b[0m\u001b[1;33m\u001b[0m\u001b[0m\n\u001b[0m\u001b[0;32m    686\u001b[0m             \u001b[0my\u001b[0m \u001b[1;33m=\u001b[0m \u001b[0my\u001b[0m\u001b[1;33m.\u001b[0m\u001b[0mravel\u001b[0m\u001b[1;33m(\u001b[0m\u001b[1;33m)\u001b[0m\u001b[1;33m\u001b[0m\u001b[0m\n\u001b[0;32m    687\u001b[0m         \u001b[1;32melse\u001b[0m\u001b[1;33m:\u001b[0m\u001b[1;33m\u001b[0m\u001b[0m\n",
      "\u001b[1;32mC:\\Users\\Daniel\\Anaconda3\\lib\\site-packages\\numpy\\core\\numeric.py\u001b[0m in \u001b[0;36masarray\u001b[1;34m(a, dtype, order)\u001b[0m\n\u001b[0;32m    529\u001b[0m \u001b[1;33m\u001b[0m\u001b[0m\n\u001b[0;32m    530\u001b[0m     \"\"\"\n\u001b[1;32m--> 531\u001b[1;33m     \u001b[1;32mreturn\u001b[0m \u001b[0marray\u001b[0m\u001b[1;33m(\u001b[0m\u001b[0ma\u001b[0m\u001b[1;33m,\u001b[0m \u001b[0mdtype\u001b[0m\u001b[1;33m,\u001b[0m \u001b[0mcopy\u001b[0m\u001b[1;33m=\u001b[0m\u001b[1;32mFalse\u001b[0m\u001b[1;33m,\u001b[0m \u001b[0morder\u001b[0m\u001b[1;33m=\u001b[0m\u001b[0morder\u001b[0m\u001b[1;33m)\u001b[0m\u001b[1;33m\u001b[0m\u001b[0m\n\u001b[0m\u001b[0;32m    532\u001b[0m \u001b[1;33m\u001b[0m\u001b[0m\n\u001b[0;32m    533\u001b[0m \u001b[1;33m\u001b[0m\u001b[0m\n",
      "\u001b[1;31mTypeError\u001b[0m: float() argument must be a string or a number, not 'dict'"
     ]
    }
   ],
   "source": [
    "plt.plot([env.scores])\n",
    "plt.show()"
   ]
  },
  {
   "cell_type": "code",
   "execution_count": null,
   "metadata": {
    "collapsed": true
   },
   "outputs": [],
   "source": []
  }
 ],
 "metadata": {
  "kernelspec": {
   "display_name": "Python 3",
   "language": "python",
   "name": "python3"
  },
  "language_info": {
   "codemirror_mode": {
    "name": "ipython",
    "version": 3
   },
   "file_extension": ".py",
   "mimetype": "text/x-python",
   "name": "python",
   "nbconvert_exporter": "python",
   "pygments_lexer": "ipython3",
   "version": "3.6.3"
  }
 },
 "nbformat": 4,
 "nbformat_minor": 2
}
