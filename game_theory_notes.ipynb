{
 "cells": [
  {
   "cell_type": "markdown",
   "metadata": {},
   "source": [
    "# Game theory solver notes"
   ]
  },
  {
   "cell_type": "code",
   "execution_count": 1,
   "metadata": {
    "ExecuteTime": {
     "end_time": "2017-12-16T20:57:15.108380Z",
     "start_time": "2017-12-16T20:57:15.102591Z"
    },
    "collapsed": true
   },
   "outputs": [],
   "source": [
    "from game_theory.model import game, evolution\n",
    "from game_theory.example_payoffs import *"
   ]
  },
  {
   "cell_type": "markdown",
   "metadata": {},
   "source": [
    "## Example with prisoner's dilemma"
   ]
  },
  {
   "cell_type": "markdown",
   "metadata": {},
   "source": [
    "You can construct the prisoner's dilemma game by manually constructing the payoff matrix. Similarly, game_theory.example_payoffs has a number of prebuild payoff matrices to choose from.\n",
    "\n",
    "The payoff matrix is constructed by specifying each agents payoffs by row in a list."
   ]
  },
  {
   "cell_type": "code",
   "execution_count": 2,
   "metadata": {
    "ExecuteTime": {
     "end_time": "2017-12-16T20:44:08.113299Z",
     "start_time": "2017-12-16T20:44:08.108926Z"
    },
    "collapsed": true
   },
   "outputs": [],
   "source": [
    "X = [[-1, -3], [0, -2]]\n",
    "Y = [[-1, 0], [-3, -2]]\n",
    "prisoners_dilemma_constructed = [X, Y]"
   ]
  },
  {
   "cell_type": "code",
   "execution_count": 3,
   "metadata": {
    "ExecuteTime": {
     "end_time": "2017-12-16T20:58:49.433147Z",
     "start_time": "2017-12-16T20:58:49.428110Z"
    },
    "collapsed": true
   },
   "outputs": [],
   "source": [
    "prison = game(name=\"Prisoner's Dilemma\", payoffs=chicken)"
   ]
  },
  {
   "cell_type": "code",
   "execution_count": 4,
   "metadata": {
    "ExecuteTime": {
     "end_time": "2017-12-16T20:58:49.775302Z",
     "start_time": "2017-12-16T20:58:49.765313Z"
    }
   },
   "outputs": [
    {
     "data": {
      "text/plain": [
       "Prisoner's Dilemma\n",
       "\n",
       "         A           B\n",
       "A   [0, 0]     [-1, 1]\n",
       "B  [1, -1]  [-10, -10]\n",
       "\n",
       "Nash Equilibrum(s) at: [[0, 1], [1, 0]]"
      ]
     },
     "execution_count": 4,
     "metadata": {},
     "output_type": "execute_result"
    }
   ],
   "source": [
    "prison"
   ]
  },
  {
   "cell_type": "markdown",
   "metadata": {},
   "source": [
    "## Example with stag hunt with irrelevant alternative"
   ]
  },
  {
   "cell_type": "markdown",
   "metadata": {},
   "source": [
    "This stag example contains several irrelevant alternatives (C row and column) to the traditional stag game."
   ]
  },
  {
   "cell_type": "code",
   "execution_count": 5,
   "metadata": {
    "ExecuteTime": {
     "end_time": "2017-12-16T20:44:08.361931Z",
     "start_time": "2017-12-16T20:44:08.358554Z"
    },
    "collapsed": true
   },
   "outputs": [],
   "source": [
    "X = [[2, 0, 0], [1, 1, 0], [-1, -1, -1]]\n",
    "Y = [[2, 1, 0], [0, 1, 0], [-1, -1, -1]]"
   ]
  },
  {
   "cell_type": "code",
   "execution_count": 6,
   "metadata": {
    "ExecuteTime": {
     "end_time": "2017-12-16T20:44:08.367400Z",
     "start_time": "2017-12-16T20:44:08.363751Z"
    },
    "collapsed": true
   },
   "outputs": [],
   "source": [
    "stag_hunt = game(name=\"Stag Hunt\", payoffs=[X, Y])"
   ]
  },
  {
   "cell_type": "code",
   "execution_count": 7,
   "metadata": {
    "ExecuteTime": {
     "end_time": "2017-12-16T20:44:08.377677Z",
     "start_time": "2017-12-16T20:44:08.369193Z"
    },
    "scrolled": true
   },
   "outputs": [
    {
     "data": {
      "text/plain": [
       "Stag Hunt\n",
       "\n",
       "          A         B         C\n",
       "A    [2, 2]    [0, 1]    [0, 0]\n",
       "B    [1, 0]    [1, 1]    [0, 0]\n",
       "C  [-1, -1]  [-1, -1]  [-1, -1]\n",
       "\n",
       "Nash Equilibrum(s) at: [[0, 0], [1, 1]]"
      ]
     },
     "execution_count": 7,
     "metadata": {},
     "output_type": "execute_result"
    }
   ],
   "source": [
    "stag_hunt"
   ]
  },
  {
   "cell_type": "markdown",
   "metadata": {},
   "source": [
    "## Example of iterative, non-memory game"
   ]
  },
  {
   "cell_type": "markdown",
   "metadata": {},
   "source": [
    "An iterative, non-memory game involves establishing different agent types that randomly bump into each other and play their associated game for several rounds.\n",
    "\n",
    "To initialize the game, one needs to define the population of each type of agents, and the respective games that each agents play with one another. As such, one needs to define *n* 2 games where *n* is the number of agent types. In this example, each agent's payoffs remain consistent regardless of who the agent is playing against, however, each agent can have different payoffs depending on the opponents agent type."
   ]
  },
  {
   "cell_type": "code",
   "execution_count": 8,
   "metadata": {
    "ExecuteTime": {
     "end_time": "2017-12-16T20:44:08.869948Z",
     "start_time": "2017-12-16T20:44:08.597966Z"
    },
    "collapsed": true
   },
   "outputs": [],
   "source": [
    "player_pop = {\"X\": 10, \"Y\": 5, \"Z\": 5}\n",
    "X = [[-1, -3], [0, -2]]\n",
    "Y = [[-1, -3], [-3, -2]]\n",
    "Z = [[2, 0], [1, 1]]\n",
    "games = {\"X X\": [X, X], \"X Y\": [X, Y], \"X Z\": [X, Z],\n",
    "         \"Y Y\": [Y, Y], \"Y Z\": [Y, Z], \"Z Z\": [Z, Z]}\n",
    "number_of_games = 100\n",
    "env = evolution(games=games, number_of_games=number_of_games,\n",
    "                player_pop=player_pop)"
   ]
  },
  {
   "cell_type": "code",
   "execution_count": 9,
   "metadata": {
    "ExecuteTime": {
     "end_time": "2017-12-16T20:44:08.900340Z",
     "start_time": "2017-12-16T20:44:08.874420Z"
    }
   },
   "outputs": [
    {
     "data": {
      "text/plain": [
       "[\n",
       "\n",
       "X X\n",
       "\n",
       "          A         B\n",
       "A  [-1, -1]  [-3, -3]\n",
       "B    [0, 0]  [-2, -2]\n",
       "\n",
       "Nash Equilibrum(s) at: [[1, 0]], \n",
       "\n",
       "X Y\n",
       "\n",
       "          A         B\n",
       "A  [-1, -1]  [-3, -3]\n",
       "B   [0, -3]  [-2, -2]\n",
       "\n",
       "Nash Equilibrum(s) at: [[1, 1]], \n",
       "\n",
       "X Z\n",
       "\n",
       "         A        B\n",
       "A  [-1, 2]  [-3, 0]\n",
       "B   [0, 1]  [-2, 1]\n",
       "\n",
       "Nash Equilibrum(s) at: [[1, 0], [1, 1]], \n",
       "\n",
       "Y Y\n",
       "\n",
       "          A         B\n",
       "A  [-1, -1]  [-3, -3]\n",
       "B  [-3, -3]  [-2, -2]\n",
       "\n",
       "Nash Equilibrum(s) at: [[0, 0], [1, 1]], \n",
       "\n",
       "Y Z\n",
       "\n",
       "         A        B\n",
       "A  [-1, 2]  [-3, 0]\n",
       "B  [-3, 1]  [-2, 1]\n",
       "\n",
       "Nash Equilibrum(s) at: [[0, 0], [1, 1]], \n",
       "\n",
       "Z Z\n",
       "\n",
       "        A       B\n",
       "A  [2, 2]  [0, 0]\n",
       "B  [1, 1]  [1, 1]\n",
       "\n",
       "Nash Equilibrum(s) at: [[0, 0], [1, 1]]]"
      ]
     },
     "execution_count": 9,
     "metadata": {},
     "output_type": "execute_result"
    }
   ],
   "source": [
    "env"
   ]
  },
  {
   "cell_type": "code",
   "execution_count": 10,
   "metadata": {
    "ExecuteTime": {
     "end_time": "2017-12-16T20:44:08.915983Z",
     "start_time": "2017-12-16T20:44:08.901917Z"
    }
   },
   "outputs": [
    {
     "data": {
      "text/plain": [
       "[{'X': [0, 0, 0, 0, 0, 0, 0, 0, 0, 0],\n",
       "  'Y': [0, 0, 0, 0, 0],\n",
       "  'Z': [0, 0, 0, 0, 0]},\n",
       " {'X': [1, -2, -2, 0, 1, -2, 0, 0, 0, -2],\n",
       "  'Y': [-2, -2, -2, -2, -1],\n",
       "  'Z': [0, 1, 0, 2, 1]},\n",
       " {'X': [-1, -1, -2, 0, 1, -1, -2, 0, 1, -2],\n",
       "  'Y': [0, -4, -3, -3, -3],\n",
       "  'Z': [0, 2, 0, 2, 0]},\n",
       " {'X': [-3, -1, -2, 1, -1, -1, -2, 0, -1, -2],\n",
       "  'Y': [2, -6, -5, -5, -4],\n",
       "  'Z': [1, 4, 0, 3, -1]},\n",
       " {'X': [-3, -1, -1, -1, 0, -1, -2, -2, -1, -4],\n",
       "  'Y': [0, -7, -7, -7, -5],\n",
       "  'Z': [3, 4, 1, 5, -1]}]"
      ]
     },
     "execution_count": 10,
     "metadata": {},
     "output_type": "execute_result"
    }
   ],
   "source": [
    "env.scores[0:5]"
   ]
  },
  {
   "cell_type": "markdown",
   "metadata": {
    "collapsed": true
   },
   "source": [
    "## Rock, Papers, Scissors"
   ]
  },
  {
   "cell_type": "code",
   "execution_count": 11,
   "metadata": {
    "ExecuteTime": {
     "end_time": "2017-12-16T20:44:08.926818Z",
     "start_time": "2017-12-16T20:44:08.917534Z"
    },
    "collapsed": true
   },
   "outputs": [],
   "source": [
    "X = [[0, -1, 1], [1, 0, -1], [-1, 1, 0]]\n",
    "Y = [[0, 1, -1], [-1, 0, 1], [1, -1, 0]]\n",
    "#rps = game(name=\"Rock, Papers, Scissors\", payoffs=[X, Y])"
   ]
  },
  {
   "cell_type": "code",
   "execution_count": null,
   "metadata": {
    "collapsed": true
   },
   "outputs": [],
   "source": []
  }
 ],
 "metadata": {
  "kernelspec": {
   "display_name": "Python 3",
   "language": "python",
   "name": "python3"
  },
  "language_info": {
   "codemirror_mode": {
    "name": "ipython",
    "version": 3
   },
   "file_extension": ".py",
   "mimetype": "text/x-python",
   "name": "python",
   "nbconvert_exporter": "python",
   "pygments_lexer": "ipython3",
   "version": "3.6.3"
  },
  "latex_envs": {
   "LaTeX_envs_menu_present": true,
   "autocomplete": true,
   "bibliofile": "biblio.bib",
   "cite_by": "apalike",
   "current_citInitial": 1,
   "eqLabelWithNumbers": true,
   "eqNumInitial": 1,
   "hotkeys": {
    "equation": "Ctrl-E",
    "itemize": "Ctrl-I"
   },
   "labels_anchors": false,
   "latex_user_defs": false,
   "report_style_numbering": false,
   "user_envs_cfg": false
  },
  "toc": {
   "nav_menu": {},
   "number_sections": true,
   "sideBar": true,
   "skip_h1_title": false,
   "toc_cell": false,
   "toc_position": {},
   "toc_section_display": "block",
   "toc_window_display": false
  }
 },
 "nbformat": 4,
 "nbformat_minor": 2
}
